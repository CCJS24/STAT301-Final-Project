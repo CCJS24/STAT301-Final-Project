{
 "cells": [
  {
   "cell_type": "markdown",
   "id": "2e3f0b7a-5a6f-4310-bbde-a34e5b186275",
   "metadata": {},
   "source": []
  },
  {
   "cell_type": "code",
   "execution_count": 1,
   "id": "3456dc0f-cd06-4247-abb9-2de78052e2a8",
   "metadata": {},
   "outputs": [
    {
     "name": "stderr",
     "output_type": "stream",
     "text": [
      "Updating HTML index of packages in '.Library'\n",
      "\n",
      "Making 'packages.html' ...\n",
      " done\n",
      "\n",
      "Updating HTML index of packages in '.Library'\n",
      "\n",
      "Making 'packages.html' ...\n",
      " done\n",
      "\n",
      "Updating HTML index of packages in '.Library'\n",
      "\n",
      "Making 'packages.html' ...\n",
      " done\n",
      "\n",
      "Updating HTML index of packages in '.Library'\n",
      "\n",
      "Making 'packages.html' ...\n",
      " done\n",
      "\n",
      "Updating HTML index of packages in '.Library'\n",
      "\n",
      "Making 'packages.html' ...\n",
      " done\n",
      "\n",
      "Updating HTML index of packages in '.Library'\n",
      "\n",
      "Making 'packages.html' ...\n",
      " done\n",
      "\n",
      "Updating HTML index of packages in '.Library'\n",
      "\n",
      "Making 'packages.html' ...\n",
      " done\n",
      "\n",
      "── \u001b[1mAttaching core tidyverse packages\u001b[22m ──────────────────────── tidyverse 2.0.0 ──\n",
      "\u001b[32m✔\u001b[39m \u001b[34mdplyr    \u001b[39m 1.1.4     \u001b[32m✔\u001b[39m \u001b[34mreadr    \u001b[39m 2.1.5\n",
      "\u001b[32m✔\u001b[39m \u001b[34mforcats  \u001b[39m 1.0.0     \u001b[32m✔\u001b[39m \u001b[34mstringr  \u001b[39m 1.5.1\n",
      "\u001b[32m✔\u001b[39m \u001b[34mggplot2  \u001b[39m 3.5.1     \u001b[32m✔\u001b[39m \u001b[34mtibble   \u001b[39m 3.2.1\n",
      "\u001b[32m✔\u001b[39m \u001b[34mlubridate\u001b[39m 1.9.3     \u001b[32m✔\u001b[39m \u001b[34mtidyr    \u001b[39m 1.3.1\n",
      "\u001b[32m✔\u001b[39m \u001b[34mpurrr    \u001b[39m 1.0.2     \n",
      "── \u001b[1mConflicts\u001b[22m ────────────────────────────────────────── tidyverse_conflicts() ──\n",
      "\u001b[31m✖\u001b[39m \u001b[34mdplyr\u001b[39m::\u001b[32mfilter()\u001b[39m masks \u001b[34mstats\u001b[39m::filter()\n",
      "\u001b[31m✖\u001b[39m \u001b[34mdplyr\u001b[39m::\u001b[32mlag()\u001b[39m    masks \u001b[34mstats\u001b[39m::lag()\n",
      "\u001b[36mℹ\u001b[39m Use the conflicted package (\u001b[3m\u001b[34m<http://conflicted.r-lib.org/>\u001b[39m\u001b[23m) to force all conflicts to become errors\n",
      "corrplot 0.92 loaded\n",
      "\n",
      "\n",
      "Attaching package: ‘data.table’\n",
      "\n",
      "\n",
      "The following objects are masked from ‘package:lubridate’:\n",
      "\n",
      "    hour, isoweek, mday, minute, month, quarter, second, wday, week,\n",
      "    yday, year\n",
      "\n",
      "\n",
      "The following objects are masked from ‘package:dplyr’:\n",
      "\n",
      "    between, first, last\n",
      "\n",
      "\n",
      "The following object is masked from ‘package:purrr’:\n",
      "\n",
      "    transpose\n",
      "\n",
      "\n",
      "Loading required package: grid\n",
      "\n",
      "\n",
      "Attaching package: ‘cowplot’\n",
      "\n",
      "\n",
      "The following object is masked from ‘package:lubridate’:\n",
      "\n",
      "    stamp\n",
      "\n",
      "\n",
      "Registered S3 method overwritten by 'GGally':\n",
      "  method from   \n",
      "  +.gg   ggplot2\n",
      "\n",
      "\n",
      "Attaching package: ‘modelr’\n",
      "\n",
      "\n",
      "The following object is masked from ‘package:broom’:\n",
      "\n",
      "    bootstrap\n",
      "\n",
      "\n",
      "Loading required package: lattice\n",
      "\n",
      "\n",
      "Attaching package: ‘caret’\n",
      "\n",
      "\n",
      "The following object is masked from ‘package:purrr’:\n",
      "\n",
      "    lift\n",
      "\n",
      "\n",
      "Loading required package: carData\n",
      "\n",
      "\n",
      "Attaching package: ‘car’\n",
      "\n",
      "\n",
      "The following object is masked from ‘package:dplyr’:\n",
      "\n",
      "    recode\n",
      "\n",
      "\n",
      "The following object is masked from ‘package:purrr’:\n",
      "\n",
      "    some\n",
      "\n",
      "\n",
      "── \u001b[1mAttaching packages\u001b[22m ────────────────────────────────────── tidymodels 1.2.0 ──\n",
      "\n",
      "\u001b[32m✔\u001b[39m \u001b[34mdials       \u001b[39m 1.2.1     \u001b[32m✔\u001b[39m \u001b[34mtune        \u001b[39m 1.2.1\n",
      "\u001b[32m✔\u001b[39m \u001b[34mmodeldata   \u001b[39m 1.4.0     \u001b[32m✔\u001b[39m \u001b[34mworkflows   \u001b[39m 1.1.4\n",
      "\u001b[32m✔\u001b[39m \u001b[34mparsnip     \u001b[39m 1.2.1     \u001b[32m✔\u001b[39m \u001b[34mworkflowsets\u001b[39m 1.1.0\n",
      "\u001b[32m✔\u001b[39m \u001b[34mrecipes     \u001b[39m 1.1.0     \u001b[32m✔\u001b[39m \u001b[34myardstick   \u001b[39m 1.3.1\n",
      "\u001b[32m✔\u001b[39m \u001b[34mrsample     \u001b[39m 1.2.1     \n",
      "\n",
      "── \u001b[1mConflicts\u001b[22m ───────────────────────────────────────── tidymodels_conflicts() ──\n",
      "\u001b[31m✖\u001b[39m \u001b[34mdata.table\u001b[39m::\u001b[32mbetween()\u001b[39m    masks \u001b[34mdplyr\u001b[39m::between()\n",
      "\u001b[31m✖\u001b[39m \u001b[34mmodelr\u001b[39m::\u001b[32mbootstrap()\u001b[39m      masks \u001b[34mbroom\u001b[39m::bootstrap()\n",
      "\u001b[31m✖\u001b[39m \u001b[34mscales\u001b[39m::\u001b[32mdiscard()\u001b[39m        masks \u001b[34mpurrr\u001b[39m::discard()\n",
      "\u001b[31m✖\u001b[39m \u001b[34mdplyr\u001b[39m::\u001b[32mfilter()\u001b[39m          masks \u001b[34mstats\u001b[39m::filter()\n",
      "\u001b[31m✖\u001b[39m \u001b[34mdata.table\u001b[39m::\u001b[32mfirst()\u001b[39m      masks \u001b[34mdplyr\u001b[39m::first()\n",
      "\u001b[31m✖\u001b[39m \u001b[34mrecipes\u001b[39m::\u001b[32mfixed()\u001b[39m         masks \u001b[34mstringr\u001b[39m::fixed()\n",
      "\u001b[31m✖\u001b[39m \u001b[34mdplyr\u001b[39m::\u001b[32mlag()\u001b[39m             masks \u001b[34mstats\u001b[39m::lag()\n",
      "\u001b[31m✖\u001b[39m \u001b[34mdata.table\u001b[39m::\u001b[32mlast()\u001b[39m       masks \u001b[34mdplyr\u001b[39m::last()\n",
      "\u001b[31m✖\u001b[39m \u001b[34mcaret\u001b[39m::\u001b[32mlift()\u001b[39m            masks \u001b[34mpurrr\u001b[39m::lift()\n",
      "\u001b[31m✖\u001b[39m \u001b[34myardstick\u001b[39m::\u001b[32mmae()\u001b[39m         masks \u001b[34mmodelr\u001b[39m::mae()\n",
      "\u001b[31m✖\u001b[39m \u001b[34myardstick\u001b[39m::\u001b[32mmape()\u001b[39m        masks \u001b[34mmodelr\u001b[39m::mape()\n",
      "\u001b[31m✖\u001b[39m \u001b[34mrsample\u001b[39m::\u001b[32mpermutations()\u001b[39m  masks \u001b[34me1071\u001b[39m::permutations()\n",
      "\u001b[31m✖\u001b[39m \u001b[34myardstick\u001b[39m::\u001b[32mprecision()\u001b[39m   masks \u001b[34mcaret\u001b[39m::precision()\n",
      "\u001b[31m✖\u001b[39m \u001b[34myardstick\u001b[39m::\u001b[32mrecall()\u001b[39m      masks \u001b[34mcaret\u001b[39m::recall()\n",
      "\u001b[31m✖\u001b[39m \u001b[34mcar\u001b[39m::\u001b[32mrecode()\u001b[39m            masks \u001b[34mdplyr\u001b[39m::recode()\n",
      "\u001b[31m✖\u001b[39m \u001b[34myardstick\u001b[39m::\u001b[32mrmse()\u001b[39m        masks \u001b[34mmodelr\u001b[39m::rmse()\n",
      "\u001b[31m✖\u001b[39m \u001b[34myardstick\u001b[39m::\u001b[32msensitivity()\u001b[39m masks \u001b[34mcaret\u001b[39m::sensitivity()\n",
      "\u001b[31m✖\u001b[39m \u001b[34mcar\u001b[39m::\u001b[32msome()\u001b[39m              masks \u001b[34mpurrr\u001b[39m::some()\n",
      "\u001b[31m✖\u001b[39m \u001b[34myardstick\u001b[39m::\u001b[32mspec()\u001b[39m        masks \u001b[34mreadr\u001b[39m::spec()\n",
      "\u001b[31m✖\u001b[39m \u001b[34myardstick\u001b[39m::\u001b[32mspecificity()\u001b[39m masks \u001b[34mcaret\u001b[39m::specificity()\n",
      "\u001b[31m✖\u001b[39m \u001b[34mrecipes\u001b[39m::\u001b[32mstep()\u001b[39m          masks \u001b[34mstats\u001b[39m::step()\n",
      "\u001b[31m✖\u001b[39m \u001b[34mdata.table\u001b[39m::\u001b[32mtranspose()\u001b[39m  masks \u001b[34mpurrr\u001b[39m::transpose()\n",
      "\u001b[31m✖\u001b[39m \u001b[34mtune\u001b[39m::\u001b[32mtune()\u001b[39m             masks \u001b[34mparsnip\u001b[39m::tune(), \u001b[34me1071\u001b[39m::tune()\n",
      "\u001b[34m•\u001b[39m Use suppressPackageStartupMessages() to eliminate package startup messages\n",
      "\n",
      "Loading required package: Matrix\n",
      "\n",
      "\n",
      "Attaching package: ‘Matrix’\n",
      "\n",
      "\n",
      "The following objects are masked from ‘package:tidyr’:\n",
      "\n",
      "    expand, pack, unpack\n",
      "\n",
      "\n",
      "Loaded glmnet 4.1-8\n",
      "\n",
      "\n",
      "Attaching package: ‘faraway’\n",
      "\n",
      "\n",
      "The following objects are masked from ‘package:car’:\n",
      "\n",
      "    logit, vif\n",
      "\n",
      "\n",
      "The following object is masked from ‘package:lattice’:\n",
      "\n",
      "    melanoma\n",
      "\n",
      "\n",
      "The following object is masked from ‘package:GGally’:\n",
      "\n",
      "    happy\n",
      "\n",
      "\n",
      "\n",
      "Attaching package: ‘mltools’\n",
      "\n",
      "\n",
      "The following objects are masked from ‘package:yardstick’:\n",
      "\n",
      "    mcc, rmse\n",
      "\n",
      "\n",
      "The following object is masked from ‘package:e1071’:\n",
      "\n",
      "    skewness\n",
      "\n",
      "\n",
      "The following objects are masked from ‘package:modelr’:\n",
      "\n",
      "    mse, rmse\n",
      "\n",
      "\n",
      "The following object is masked from ‘package:tidyr’:\n",
      "\n",
      "    replace_na\n",
      "\n",
      "\n"
     ]
    }
   ],
   "source": [
    "# Installing the package\n",
    "install.packages(\"data.table\")\n",
    "install.packages(\"dplyr\")\n",
    "install.packages(\"vcd\")\n",
    "install.packages(\"ggplot2\")\n",
    "# for classification & regression training\n",
    "install.packages(\"e1071\") \n",
    "install.packages(\"caTools\") \n",
    "install.packages(\"caret\")\n",
    "\n",
    "# Loading packages\n",
    "library(tidyverse)\n",
    "#library(tidyr)\n",
    "library(corrplot)\n",
    "library(data.table)\n",
    "library(dplyr)\n",
    "library(vcd)\n",
    "library(ggplot2)\n",
    "library(repr)\n",
    "library(infer)\n",
    "library(cowplot)\n",
    "library(broom)\n",
    "library(GGally)\n",
    "library(modelr)\n",
    "# for classification & regression training\n",
    "library(e1071) \n",
    "library(caTools) \n",
    "library(caret) \n",
    "\n",
    "library(car)\n",
    "library(tidymodels)\n",
    "library(glmnet)\n",
    "library(leaps)\n",
    "library(faraway)\n",
    "library(mltools)"
   ]
  },
  {
   "cell_type": "markdown",
   "id": "7a538a1c-c83c-4407-9e42-ec7b2eb4193b",
   "metadata": {},
   "source": [
    "### C.S version:"
   ]
  },
  {
   "cell_type": "markdown",
   "id": "c5dc5c8f-0892-4601-8718-c8867a328814",
   "metadata": {},
   "source": [
    "### **Methods and Plan**\n",
    "**Method to address the question of interest**: \n",
    "\n",
    "- Using LASSO Regression to fit a Binary logistic regression for inferential modelling\n",
    "\n",
    "**Why this method is appropriate**: \n",
    "\n",
    "- effective for binary classification, and finding the true relation between the continuous numeric input variables and the binary heart disease variable _target_\n",
    "- binary logistic regression is an effective regression model for probability of each value in dichotomous dependent variables, such as the dummy response variable _target_ ( equals 1 or 0) in the heart disease dataset. This is improved by selection and regularization via LASSO\n",
    "- LASSO shrinkage helps to reduce overfitting\n",
    "- LASSO feature selection picks input variables with minimal multicollinearity to include only significant variables in a model\n",
    "\n",
    "**Required Assumptions to apply Binary Logistic Regression**:\n",
    "- The target variable is binary with two possible outcomes (in this dataset: 0 = no heart disease and 1=has heart disease)\n",
    "  \n",
    "- Independent observations: no correlated data points exist, each observation was independently collected, and had no influence on each other\n",
    "  \n",
    "- Moderate or very low multicollinearity: explanatory variables should be weakly or not at all correlated to prevent issues with lower precision, such as estimated coefficients with large confidence intervals\n",
    "\n",
    "**Potential limitations or weaknesses of the method selected**:\n",
    "\n",
    "Binary logistic Regression assumes a linear relationship between exploratory variables and the log odds of the response variable, which is very uncommon in real-world scenarios. This includes health, where various factors such as a patient's specific medical history and correlated variables also affect the observation. A pre-requisite of using this method is moderate-low multicollinearity between independent variables, which is unlikely since many physiological variables are often correlated (ex. age and blood pressure). This interpretation may simplify our view of the dataset, although many real-world correlated input variables can influence the calculated magnitude of an individual independent variable's effect on the likelihood of heart disease. \n",
    "\n",
    "\n",
    "Issues with using LASSO regression:\n",
    "- Biased estimators: the sampling distributions of LASSO estimators are not centered at the true value of the parameter.\n",
    "- \"double dipping\": The same data cannot be used to select variables of the model and also conduct inference, however this post-inference issue occurs when fitting an LS regression after LASSO\n",
    "\n",
    "\n",
    "**What can be done to handle this**:\n",
    "- To handle highly-correlated variables: Lasso ridge will be used for selecting variables by finding the lowest MSE values, and dropping the variables that may be problematically highly correlated (high MSE values)\n",
    "- To handle biased estimators: post-lasso technique can be applied by fitting regular least squares onto all exploratory variables LASSO selects, although this does not apply to a logistic model with a binary non-continuous response variable, so other models may be explored to account for this weakness\n",
    "- To handle \"double dipping\": we split the data into two parts, where one is for model selection, the other for inference"
   ]
  },
  {
   "cell_type": "markdown",
   "id": "696e2ed0-5079-490e-b359-7125bf0a2692",
   "metadata": {},
   "source": [
    "### Data Cleaning and Wrangling"
   ]
  },
  {
   "cell_type": "code",
   "execution_count": null,
   "id": "97f3f510-952f-4da9-b009-776d594ed066",
   "metadata": {},
   "outputs": [],
   "source": [
    "# Importing dataset\n",
    "heart_disease_data <- read.csv(\"heart.csv\")\n",
    "head(heart_disease_data, 5)"
   ]
  },
  {
   "cell_type": "code",
   "execution_count": null,
   "id": "9ca5865e-4791-4cab-a19d-7da4915f3e36",
   "metadata": {},
   "outputs": [],
   "source": [
    "# Taking a look at heart_disease_data dataframe info\n",
    "df_info <- str(heart_disease_data)"
   ]
  },
  {
   "cell_type": "code",
   "execution_count": null,
   "id": "2dfe4b14-3895-4489-b045-407aa5c30d38",
   "metadata": {},
   "outputs": [],
   "source": [
    "# Search for NAs in dataset\n",
    "num_NAs <- sum(is.na(heart_disease_data))\n",
    "num_NAs"
   ]
  },
  {
   "cell_type": "code",
   "execution_count": null,
   "id": "d1df14b0-a87f-4664-b6a4-37718960eda9",
   "metadata": {},
   "outputs": [],
   "source": [
    "# Summary of heart_disease_data, including quantitative information on each variable\n",
    "summary(heart_disease_data)"
   ]
  },
  {
   "cell_type": "code",
   "execution_count": null,
   "id": "7fe921b6-c03c-45e0-af43-ab33381e5c09",
   "metadata": {},
   "outputs": [],
   "source": [
    "# Converting dataframe to tibble\n",
    "heart_disease_tibble <- as_tibble(heart_disease_data)\n",
    "head(heart_disease_tibble, 5)"
   ]
  },
  {
   "cell_type": "markdown",
   "id": "c6991e9c-b074-45be-9102-ec6dbc7e8609",
   "metadata": {},
   "source": [
    "Now that the data is clean and wrangled into a tidy format, a correlation matrix visualization will be produced to find the strength of correlation between all continuous exploratory variables in heart_disease_data. This heatmap will be helpful to hypothesize which variables may be problematic and inapplicable to creating a model for inference, and whether or not age and cholesterol have high correlations with any variables in the dataset."
   ]
  },
  {
   "cell_type": "markdown",
   "id": "03746d94-7abb-43e4-9d18-73c56915da93",
   "metadata": {},
   "source": [
    "### Finding Correlation Coefficients via Heatmap "
   ]
  },
  {
   "cell_type": "code",
   "execution_count": null,
   "id": "de2061fc-91f0-4fab-9d68-9d5bf7a1a373",
   "metadata": {},
   "outputs": [],
   "source": [
    "# Selecting only for continuous variables, excluding categorical variables\n",
    "selected_vars <- c(\"age\", \"cp\", \"trestbps\", \"chol\", \"fbs\", \"restecg\", \"thalach\", \"exang\", \"oldpeak\", \"slope\", \"ca\",\"thal\")\n",
    "selected_df <- heart_disease_data[, selected_vars]\n",
    "\n",
    "# Creating the correlation matrix\n",
    "correlation_matrix <- cor(selected_df, use = \"pairwise.complete.obs\")\n",
    "\n",
    "# Melting the matrix\n",
    "melted_corr <- melt(correlation_matrix) \n",
    "\n",
    "# Create the heatmap via ggplot()\n",
    " heatmap <- ggplot(data = melted_corr, aes(Var1, Var2, fill = value)) +\n",
    "  geom_tile() +\n",
    "  scale_fill_gradient2(low = \"blue\", high = \"red\", mid = \"white\", \n",
    "                       midpoint = 0, limit = c(-1, 1), \n",
    "                       name=\"Correlation\") +\n",
    "  theme_minimal() +\n",
    "  labs(title = \"Correlation Heatmap for Heart Disease Dataset Variables\") +\n",
    "  theme(axis.text.x = element_text(angle = 45, hjust = 1))\n",
    "\n",
    "heatmap"
   ]
  },
  {
   "cell_type": "markdown",
   "id": "704a5b18-1b59-4a49-bf3f-08c8b6695732",
   "metadata": {},
   "source": [
    "Of the continuous variables, the most strongly correlated are the following:\n",
    "- _oldpeak_ and _slope_ (strongest observed correlation)\n",
    "- _thalach_ and _age_\n",
    "- _exang_ and _cp_\n",
    "- _exang_ and _thalach_\n",
    "- _oldpeak_ and _thalach_\n",
    "\n",
    "_age_ has a strong negative correlation with _thalach_, indicating these variables strongly influence each other's estimated coefficient in the regression model. _Age_ and _chol_ have a low positive correlation with _r_ = 0 - 0.4, indicating these variables weakly influence each other's estimated coefficients in a binary logistic regression model. Very few overpowering, influential exploratory continuous variables exist in this dataset."
   ]
  },
  {
   "cell_type": "markdown",
   "id": "7a334bad-f09b-4fe1-8072-50d6e0b26147",
   "metadata": {},
   "source": [
    "### Implementation of a Proposed Model (Computational code and output)"
   ]
  },
  {
   "cell_type": "markdown",
   "id": "6f3b457e-04d0-46c6-ab5e-347a0f9f309a",
   "metadata": {},
   "source": [
    "#### Applying Lasso Regression"
   ]
  },
  {
   "cell_type": "code",
   "execution_count": null,
   "id": "2304c74c-1a95-498d-a5c4-1aea605d509c",
   "metadata": {},
   "outputs": [],
   "source": [
    "#Splitting the dataset to handle the \"double-dipping\" issue, one portion is for model selection, the other is for inference\n",
    "data_split <- initial_split(heart_disease_data, prop = 0.6, strata = target)\n",
    "data_selection <- training(data_split)\n",
    "data_inference <- testing(data_split)"
   ]
  },
  {
   "cell_type": "code",
   "execution_count": null,
   "id": "4fffef83-7656-4304-8bb5-68010792bc73",
   "metadata": {},
   "outputs": [],
   "source": [
    "#Running Lasso on data_selection tibble to find value lambda that provides lowest Cross-validation MSE\n",
    "set.seed(20211118)\n",
    "\n",
    "lasso_model <-\n",
    "    cv.glmnet(data_selection %>% select(-target) %>% as.matrix(), \n",
    "              data_selection$target, \n",
    "              alpha=1)"
   ]
  },
  {
   "cell_type": "code",
   "execution_count": null,
   "id": "330cf3c5-9edd-42b2-bd9a-3da7338af17b",
   "metadata": {},
   "outputs": [],
   "source": [
    "# Extracting coefficients of the best lasso model (smallest MSE)\n",
    "set.seed(20211118)\n",
    "\n",
    "\n",
    "beta_lasso <-\n",
    "    coef(lasso_model, s = lasso_model$lambda.min)"
   ]
  },
  {
   "cell_type": "markdown",
   "id": "0632f2dc-4923-4396-8e94-198d3d0617ee",
   "metadata": {},
   "source": [
    "**Observation**\n",
    "\n",
    "During selection of best variables for the lasso model, fbs (fasting blood sugar) was cancelled: this indicates it has no statistically significant correlation to target (p-value > 0.05). Otherwise, since LASSO has kept 8 variables, there is likely minimal multicollinearity between the exploratory input variables of the dataset."
   ]
  },
  {
   "cell_type": "code",
   "execution_count": null,
   "id": "54e8b6aa-e0ff-48f4-a1f1-04a274f104b9",
   "metadata": {},
   "outputs": [],
   "source": [
    "# Finding the covariates lasso selected\n",
    "lasso_picked_covariates <-\n",
    "    as_tibble(\n",
    "        as.matrix(beta_lasso),\n",
    "        rownames='covariate') %>%\n",
    "        filter(covariate != '(Intercept)' & abs(s1) !=0) %>% \n",
    "        pull(covariate)"
   ]
  },
  {
   "cell_type": "code",
   "execution_count": null,
   "id": "ac5e22d5-b7a3-4198-bba0-2b043720d580",
   "metadata": {},
   "outputs": [],
   "source": [
    "# Taking a look at vif (variance inflation factor) of variables selected by lasso\n",
    "lasso_variables_vif <- vif(lm(target ~ . , data = data_selection %>% \n",
    "        select(contains(lasso_picked_covariates), target)))\n",
    "\n",
    "print(lasso_variables_vif)"
   ]
  },
  {
   "cell_type": "markdown",
   "id": "57b01fd8-2d4a-4789-a98f-4e542e0b57fc",
   "metadata": {},
   "source": [
    "**Observation**\n",
    "\n",
    "All selected exploratory variables have VIF values slightly above 1 (_oldpeak+ being the greatest at MSE=1.66), and large VIF values >5 or > 10 are considered indicators of higher multicollinearity. This suggests low multicollinearity in the dataset. Correlation between exploratory variables is only a minor issue in this dataset, which is consistent with _Correlation Heatmap for Heart Disease Dataset Variables_, where very few strongly correlated variable pairs were observed."
   ]
  },
  {
   "cell_type": "code",
   "execution_count": null,
   "id": "905854bf-a069-4769-9dd7-ba7dfc425852",
   "metadata": {},
   "outputs": [],
   "source": [
    "# producing the inference model visualization based on the covariates picked by lasso\n",
    "inference_model <- \n",
    "    glm( target ~ .,\n",
    "        data = data_inference %>% \n",
    "                   select(contains(lasso_picked_covariates), target),\n",
    "       family=binomial)\n",
    "\n",
    "\n",
    "summary(inference_model) "
   ]
  },
  {
   "cell_type": "markdown",
   "id": "ee797be8-e465-4a54-9423-6ce3d55e0658",
   "metadata": {},
   "source": [
    "## **Interpretation of Results**"
   ]
  },
  {
   "cell_type": "markdown",
   "id": "54d80b48-2232-4fee-8158-e84479275534",
   "metadata": {},
   "source": [
    "The inference model produced indicates the following unexpected result: _age_'s p-value = 0.609 and _chol_'s p-value = 0.39, both of which are > 0.05 (significance level) by a large margin. Concerning the question of interest, based on the final _inference model_ produced by lasso regression on the binary logistic model, these variables **do not** have a statistically significant effect on the likelihood of heart disease. The variables _sex_, _cp_, _trestbps_, _exang_, _oldpeak_, _slope_, _ca_, and _thal_ have p-values < 0.05, where _sex_,_cp_,_exang_, and _ca_ have especially strongly statistically significant correlations to the likelihood of heart disease, suggesting these are the best predictor variables for creating a logistic model to determine the probability an individual has heart disease.\n",
    "- Potential issue: Residual deviance of 268 on 398 degrees of freedom indicates that the model does not explain some variance in the data, so this model possibly is not the best fit for inference, although AIC=294.35 may be used for comparison to explore other methods (with potentially lower AICs) to produce a model that more strongly fits the data"
   ]
  },
  {
   "cell_type": "markdown",
   "id": "a4044d75-566b-423f-800e-236a6481dcf7",
   "metadata": {},
   "source": [
    "## **References**\n",
    "\n",
    "https://argoshare.is.ed.ac.uk/healthyr_book/model-assumptions.html\n",
    "\n",
    "https://www.ibm.com/topics/lasso-regression\n",
    "\n",
    "https://www.geeksforgeeks.org/lasso-vs-ridge-vs-elastic-net-ml/"
   ]
  },
  {
   "cell_type": "code",
   "execution_count": null,
   "id": "53c939a6-4857-4c2c-8605-b1dd225a5297",
   "metadata": {},
   "outputs": [],
   "source": []
  },
  {
   "cell_type": "code",
   "execution_count": null,
   "id": "5427480f-02a1-4c01-8921-67f97468db3a",
   "metadata": {},
   "outputs": [],
   "source": []
  }
 ],
 "metadata": {
  "kernelspec": {
   "display_name": "R",
   "language": "R",
   "name": "ir"
  },
  "language_info": {
   "codemirror_mode": "r",
   "file_extension": ".r",
   "mimetype": "text/x-r-source",
   "name": "R",
   "pygments_lexer": "r",
   "version": "4.3.3"
  }
 },
 "nbformat": 4,
 "nbformat_minor": 5
}
