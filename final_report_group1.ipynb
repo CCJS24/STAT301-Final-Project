{
 "cells": [
  {
   "cell_type": "markdown",
   "id": "7a538a1c-c83c-4407-9e42-ec7b2eb4193b",
   "metadata": {},
   "source": [
    "<h1>Analysis of the Effect of Age and Cholesterol on Heart Disease</h1>"
   ]
  },
  {
   "cell_type": "code",
   "execution_count": null,
   "id": "3456dc0f-cd06-4247-abb9-2de78052e2a8",
   "metadata": {
    "vscode": {
     "languageId": "r"
    }
   },
   "outputs": [
    {
     "name": "stderr",
     "output_type": "stream",
     "text": [
      "Updating HTML index of packages in '.Library'\n",
      "\n",
      "Making 'packages.html' ...\n",
      " done\n",
      "\n",
      "Updating HTML index of packages in '.Library'\n",
      "\n",
      "Making 'packages.html' ...\n",
      " done\n",
      "\n",
      "Updating HTML index of packages in '.Library'\n",
      "\n",
      "Making 'packages.html' ...\n",
      " done\n",
      "\n",
      "Updating HTML index of packages in '.Library'\n",
      "\n",
      "Making 'packages.html' ...\n",
      " done\n",
      "\n"
     ]
    }
   ],
   "source": [
    "# Installing the package\n",
    "install.packages(\"data.table\")\n",
    "install.packages(\"dplyr\")\n",
    "install.packages(\"vcd\")\n",
    "install.packages(\"ggplot2\")\n",
    "# for classification & regression training\n",
    "install.packages(\"e1071\") \n",
    "install.packages(\"caTools\") \n",
    "install.packages(\"caret\")\n",
    "\n",
    "# Loading packages\n",
    "library(tidyverse)\n",
    "#library(tidyr)\n",
    "library(corrplot)\n",
    "library(data.table)\n",
    "library(dplyr)\n",
    "library(vcd)\n",
    "library(ggplot2)\n",
    "library(repr)\n",
    "library(infer)\n",
    "library(cowplot)\n",
    "library(broom)\n",
    "library(GGally)\n",
    "library(modelr)\n",
    "library(plotly)\n",
    "# for classification & regression training\n",
    "library(e1071) \n",
    "library(caTools) \n",
    "library(caret) \n",
    "\n",
    "library(car)\n",
    "library(tidymodels)\n",
    "library(glmnet)\n",
    "library(leaps)\n",
    "library(faraway)\n",
    "library(mltools)"
   ]
  },
  {
   "cell_type": "markdown",
   "id": "8b9fbb4e-13fe-40a1-9f92-30cf87ec48b5",
   "metadata": {},
   "source": [
    "<h2>Introduction: - Duncan </h2>\n",
    "\n",
    "<b> Background Information: </b>\n",
    "\n",
    "The topic we are looking at is focused around heart disease. Understanding heart disease and its causes is vital as it remains a leading cause of death globally, impacting millions of lives annually. Identifying key risk factors, such as lifestyle choices, genetic predispositions, and physiological markers, enables early intervention and the development of targeted prevention strategies, ultimately reducing mortality and improving quality of life.\n",
    "\n",
    "The dataset is related to heart disease prediction and contains data collected from multiple sources (Cleveland, Hungary, Switzerland, and Long Beach V). This dataset dates from 1988 and consists of heart disease data collected from multiple hospitals across different regions. It includes 14 variables commonly used in heart disease research, with 1025 observations. The primary goal of this dataset is to predict the presence of heart disease based on various medical attributes. The \"target\" variable indicates the presence (1) or absence (0) of heart disease.\n",
    "\n",
    "<b> Brief Description of the Dataset: </b>\n",
    "\n",
    "The Heart Disease Dataset originates from medical records and surveys with a specific aim at studying heart disease. The dataset includes various health-related measurements and attributes of patients used to analyze the presence or absence of heart disease based on several predictors."
   ]
  },
  {
   "cell_type": "markdown",
   "id": "9a9b2e62-3bfa-48bc-ac05-ad4d657774b2",
   "metadata": {},
   "source": [
    "<h2>Question(s) for Investigation: - Kobe </h2>\n",
    "\n",
    "<b>1. How does age and cholesterol level increase the likelihood of having heart disease?</b>\n",
    "\n",
    "<b>2. Which of the 13 predictor variables in the dataset are strongly correlated to heart disease, and does this indicate age and cholesterol influence the likelihood of heart disease?</b>\n",
    "\n",
    "- Response variable: target (presence or absence of heart disease)\n",
    "- Explanatory variable(s): age, chol (serum cholesterol levels)\n",
    "\n",
    "The data provides us with a plethora of observations that make answering this question easy. The dataset contains the relevant variables that can help analyze the relationship between age and cholesterol levels with the diagnosis of heart disease. Here's how each variable contributes:\n",
    "- `age` (age): Earlier studies suggest that the likelihood of developing heart disease increases with age making it a crucial variable for analysis. \n",
    "- `cholesterol` (chol): High cholesterol is a well-known risk factor for heart disease thus, analyzing its relationship with the diagnosis of heart disease will provide valuable information about its impact on heart disease.\n",
    "\n",
    "Note: Cholesterol levels often increase with age, thus increasing the likelihood of developing heart disease, so it may be important to include this interaction term.\n",
    "\n",
    "Utilizing these variables, we will be able to construct a statistical model to evaluate how they jointly influence the likelihood of having heart disease. Plots can be used to illustrate and visualize the relationship of these variables to heart disease. \n",
    "\n",
    "This question primarily focuses on inference but also has elements of prediction. This analysis aims to understand the relationship between the explanatory variables (age, cholesterol) and the response variable (likelihood of heart disease). Employing different statistical techniques from our studies, we will be able to infer how changes in age and cholesterol levels statistically affect heart health. To draw conclusions about the population from which the sample is drawn, we involve parameter estimations and hypothesis testing. While the main goal is to understand the relationships, the results of the analysis could also be used to predict the likelihood of heart disease in individuals based on their age and cholesterol levels. Thus, the model can provide a useful tool for predicting heart disease risk in future patients. "
   ]
  },
  {
   "cell_type": "markdown",
   "id": "9bd4d968-9678-4b57-a45f-602886e12302",
   "metadata": {},
   "source": [
    "<b>Contextualization:</b> - Kobe\n",
    "\n",
    "EXISTING RESEARCH"
   ]
  },
  {
   "cell_type": "markdown",
   "id": "696e2ed0-5079-490e-b359-7125bf0a2692",
   "metadata": {},
   "source": [
    "## **Methods and Results**"
   ]
  },
  {
   "cell_type": "markdown",
   "id": "d6b7be5a-a127-4225-8f46-4f36913c542c",
   "metadata": {},
   "source": [
    "### **Exploratory Data Analysis (EDA)**\n",
    "\n",
    "- Demonstrate that the dataset can be read into R.\n",
    "- Clean and wrangle your data into a tidy format.\n",
    "- Plot the relevant raw data, tailoring your plot to address your question.\n",
    "- Make sure to explore the association of the explanatory variables with the response.\n",
    "- Any summary tables that are relevant to your analysis.\n",
    "Be sure not to print output that takes up a lot of screen space."
   ]
  },
  {
   "cell_type": "code",
   "execution_count": null,
   "id": "97f3f510-952f-4da9-b009-776d594ed066",
   "metadata": {
    "vscode": {
     "languageId": "r"
    }
   },
   "outputs": [],
   "source": [
    "# Importing dataset\n",
    "heart_disease_data <- read.csv(\"heart.csv\")\n",
    "head(heart_disease_data, 5)"
   ]
  },
  {
   "cell_type": "code",
   "execution_count": null,
   "id": "9ca5865e-4791-4cab-a19d-7da4915f3e36",
   "metadata": {
    "vscode": {
     "languageId": "r"
    }
   },
   "outputs": [],
   "source": [
    "# Taking a look at heart_disease_data dataframe info\n",
    "df_info <- str(heart_disease_data)"
   ]
  },
  {
   "cell_type": "code",
   "execution_count": null,
   "id": "2dfe4b14-3895-4489-b045-407aa5c30d38",
   "metadata": {
    "vscode": {
     "languageId": "r"
    }
   },
   "outputs": [],
   "source": [
    "# Search for NAs in dataset\n",
    "num_NAs <- sum(is.na(heart_disease_data))\n",
    "num_NAs"
   ]
  },
  {
   "cell_type": "code",
   "execution_count": null,
   "id": "d1df14b0-a87f-4664-b6a4-37718960eda9",
   "metadata": {
    "vscode": {
     "languageId": "r"
    }
   },
   "outputs": [],
   "source": [
    "# Summary of heart_disease_data, including quantitative information on each variable\n",
    "summary(heart_disease_data)"
   ]
  },
  {
   "cell_type": "code",
   "execution_count": null,
   "id": "7fe921b6-c03c-45e0-af43-ab33381e5c09",
   "metadata": {
    "vscode": {
     "languageId": "r"
    }
   },
   "outputs": [],
   "source": [
    "# Converting dataframe to tibble\n",
    "heart_disease_tibble <- as_tibble(heart_disease_data)\n",
    "head(heart_disease_tibble, 5)"
   ]
  },
  {
   "cell_type": "markdown",
   "id": "1f3dee8c-b4f0-4297-94df-f14697d0fa99",
   "metadata": {},
   "source": [
    "| Description                     | Column Name | Type      | Mean  | High | Low |\n",
    "|----------------------------------|-------------|-----------|-------|------|-----|\n",
    "| Age of the patient               | age         | Continuous| 54.43 | 77   | 29  |\n",
    "| Gender (1 = Male, 0 = Female)    | sex         | Binary    | 0.6956| N/A  | N/A |\n",
    "| Chest pain type                  | cp          | Categorical| 0.9424| N/A  | N/A |\n",
    "| Resting blood pressure (mm Hg)   | trestbps    | Continuous| 131.6 | 200  | 94  |\n",
    "| Serum cholesterol (mg/dL)        | chol        | Continuous| 246   | 564  | 126 |\n",
    "| Fasting blood sugar > 120 mg/dL  | fbs         | Binary    | 0.1493| N/A  | N/A |\n",
    "| Resting ECG results              | restecg     | Categorical| 0.5298| N/A  | N/A |\n",
    "| Maximum heart rate achieved      | thalach     | Continuous| 149.1 | 202  | 71  |\n",
    "| Exercise induced angina (1 = Yes, 0 = No)| exang| Binary    | 0.3366| N/A  | N/A |\n",
    "| ST depression induced by exercise| oldpeak     | Continuous| 1.072 | 6.2  | 0   |\n",
    "| Slope of peak exercise ST segment| slope       | Categorical| 1.385 | N/A  | N/A |\n",
    "| Number of major vessels          | ca          | Categorical| 0.7541| 4    | 0   |\n",
    "| Thalassemia type                 | thal        | Categorical| 2.324 | N/A  | N/A |\n",
    "| Presence of heart disease (1 = Yes, 0 = No)| target| Binary | 0.5132| N/A  | N/A |\n",
    "\n",
    "\n",
    "Variable Type Overview:\n",
    "- Continuous variables: Age, resting blood pressure, serum cholesterol, maximum heart rate, ST depression\n",
    "- Categorical variables: Sex, chest pain type, resting ECG results, slope, number of vessels, thalassemia\n",
    "- Binary variables: Fasting blood sugar, exercise-induced angina, presence of heart disease (target)"
   ]
  },
  {
   "cell_type": "markdown",
   "id": "c6991e9c-b074-45be-9102-ec6dbc7e8609",
   "metadata": {},
   "source": [
    "Now that the data is clean and wrangled into a tidy format, a correlation matrix visualization will be produced to find the strength of correlation between all continuous exploratory variables in heart_disease_data. This heatmap will be helpful to hypothesize which variables may be problematic and inapplicable to creating a model for inference, and whether or not age and cholesterol have high correlations with any variables in the dataset."
   ]
  },
  {
   "cell_type": "markdown",
   "id": "3a4a6468-4ac9-4b94-b1a0-43b38c092bc2",
   "metadata": {},
   "source": [
    "**PLOTS (Duncans kinda suck)**"
   ]
  },
  {
   "cell_type": "code",
   "execution_count": null,
   "id": "62cb11be-d5c3-4e78-aacf-6ea5da3902ce",
   "metadata": {
    "vscode": {
     "languageId": "r"
    }
   },
   "outputs": [],
   "source": [
    "# Histogram for age\n",
    "ggplot(heart_disease_data, aes(x = age)) +\n",
    "  geom_histogram(binwidth = 5, fill = 'skyblue', color = 'black') +\n",
    "  labs(title = \"Age Distribution\", x = \"Age\", y = \"Count\") +\n",
    "  theme_minimal()\n",
    "\n",
    "# Boxplot for chest pain\n",
    "ggplot(heart_disease_data, aes(x = as.factor(cp), y = thalach, fill = as.factor(cp))) +\n",
    "  geom_boxplot() +\n",
    "  labs(title = \"Boxplot of Maximum Heart Rate by Chest Pain Type\", \n",
    "       x = \"Chest Pain Type\", \n",
    "       y = \"Maximum Heart Rate\") +\n",
    "  theme_minimal()\n",
    "\n",
    "# Histogram for resting blood pressure\n",
    "ggplot(heart_disease_data, aes(x = trestbps)) +\n",
    "  geom_histogram(binwidth = 10, fill = 'lightgreen', color = 'black') +\n",
    "  labs(title = \"Resting Blood Pressure Distribution\", x = \"Resting BP (mm Hg)\", y = \"Count\") +\n",
    "  theme_minimal()\n",
    "\n",
    "# Histogram for maximum heart rate achieved\n",
    "ggplot(heart_disease_data, aes(x = thalach)) +\n",
    "  geom_histogram(binwidth = 5, fill = 'lightcoral', color = 'black') +\n",
    "  labs(title = \"Maximum Heart Rate Distribution\", x = \"Max Heart Rate\", y = \"Count\") +\n",
    "  theme_minimal()"
   ]
  },
  {
   "cell_type": "markdown",
   "id": "d79cb74f-672c-4115-a920-1b5fb7af9b78",
   "metadata": {},
   "source": [
    "**Age Distribution (Histogram):**\n",
    "- Helps visualize the distribution of ages in the dataset.\n",
    "- Relevant for exploring the correlation between age and heart disease, as heart disease risk increases with age.\n",
    "\n",
    "**Boxplot of Maximum Heart Rate by Chest Pain Type:**\n",
    "- Illustrates the variation in maximum heart rate across different chest pain types.\n",
    "- Useful for identifying how different chest pain types are associated with heart function and heart disease risk.\n",
    "\n",
    "**Resting Blood Pressure Distribution (Histogram):**\n",
    "- Shows the spread of resting blood pressure levels across the dataset.\n",
    "- Important for understanding how high or low blood pressure relates to heart disease likelihood.\n",
    "\n",
    "**Maximum Heart Rate Distribution (Histogram):**\n",
    "- Provides an overview of the maximum heart rate values achieved by patients.\n",
    "- Can reveal whether lower heart rates under stress testing are associated with heart disease presence, a critical factor in cardiovascular health.\n",
    "\n",
    "\n",
    "These plots are relevant because they help in understanding the relationships between potential predictors (age, chest pain type, resting blood pressure, heart rate) and heart disease. Together, they allow for a thorough exploration of the data, guiding both prediction and inference tasks."
   ]
  },
  {
   "cell_type": "code",
   "execution_count": null,
   "id": "143034d7-6d14-4cdf-805c-bcf4be1e0885",
   "metadata": {
    "vscode": {
     "languageId": "r"
    }
   },
   "outputs": [],
   "source": [
    "# Bar Plot comparing chest pain type to target\n",
    "# Calculate proportions for chest pain type (cp) by target\n",
    "test <- heart_disease_data %>%\n",
    "  group_by(cp) %>%\n",
    "  mutate(total_in_cp = n()) %>%\n",
    "  group_by(cp, target) %>%\n",
    "  summarise(count = n(), .groups = \"drop\") %>%\n",
    "  mutate(proportion = count / sum(count))\n",
    "\n",
    "# Create the bar plot using proportions\n",
    "ggplot(test, aes(x = as.factor(cp), y = proportion, fill = as.factor(target))) +\n",
    "  geom_col(position = \"dodge\") +\n",
    "  labs(\n",
    "    title = \"Proportion of Chest Pain Type by Target\",\n",
    "    x = \"Chest Pain Type (cp)\",\n",
    "    y = \"Proportion\",\n",
    "    fill = \"Target\"\n",
    "  ) +\n",
    "  theme_minimal()"
   ]
  },
  {
   "cell_type": "markdown",
   "id": "8c85170f-62b8-445e-b3df-307d5b618be2",
   "metadata": {},
   "source": [
    "Within each chest pain type, the proportion of each target category is calculated by dividing the count of each target category by the total count for that chest pain type.\n",
    "\n",
    "This plot is also useful as it indicates the relationship between the target and the kinds of chest pain experienced. Chest pain of types 2 and 3 appear more associated with individuals that do suffer from heart disease, potentially indicating a higher likelihood of the condition, while chest pain type 0 is much more common in those without heart disease."
   ]
  },
  {
   "cell_type": "markdown",
   "id": "03746d94-7abb-43e4-9d18-73c56915da93",
   "metadata": {},
   "source": [
    "### Finding Correlation Coefficients via Heatmap "
   ]
  },
  {
   "cell_type": "code",
   "execution_count": null,
   "id": "de2061fc-91f0-4fab-9d68-9d5bf7a1a373",
   "metadata": {
    "vscode": {
     "languageId": "r"
    }
   },
   "outputs": [],
   "source": [
    "# Selecting only for continuous variables, excluding categorical variables\n",
    "selected_vars <- c(\"age\", \"cp\", \"trestbps\", \"chol\", \"fbs\", \"restecg\", \"thalach\", \"exang\", \"oldpeak\", \"slope\", \"ca\",\"thal\")\n",
    "selected_df <- heart_disease_data[, selected_vars]\n",
    "\n",
    "# Creating the correlation matrix\n",
    "correlation_matrix <- cor(selected_df, use = \"pairwise.complete.obs\")\n",
    "\n",
    "# Melting the matrix\n",
    "melted_corr <- melt(correlation_matrix) \n",
    "\n",
    "# Create the heatmap via ggplot()\n",
    " heatmap <- ggplot(data = melted_corr, aes(Var1, Var2, fill = value)) +\n",
    "  geom_tile() +\n",
    "  scale_fill_gradient2(low = \"blue\", high = \"red\", mid = \"white\", \n",
    "                       midpoint = 0, limit = c(-1, 1), \n",
    "                       name=\"Correlation\") +\n",
    "  theme_minimal() +\n",
    "  labs(title = \"Correlation Heatmap for Heart Disease Dataset Variables\") +\n",
    "  theme(axis.text.x = element_text(angle = 45, hjust = 1))\n",
    "\n",
    "heatmap"
   ]
  },
  {
   "cell_type": "markdown",
   "id": "704a5b18-1b59-4a49-bf3f-08c8b6695732",
   "metadata": {},
   "source": [
    "Of the continuous variables, the most strongly correlated are the following:\n",
    "- _oldpeak_ and _slope_ (strongest observed correlation)\n",
    "- _thalach_ and _age_\n",
    "- _exang_ and _cp_\n",
    "- _exang_ and _thalach_\n",
    "- _oldpeak_ and _thalach_\n",
    "\n",
    "_age_ has a strong negative correlation with _thalach_, indicating these variables strongly influence each other's estimated coefficient in the regression model. _Age_ and _chol_ have a low positive correlation with _r_ = 0 - 0.4, indicating these variables weakly influence each other's estimated coefficients in a binary logistic regression model. Very few overpowering, influential exploratory continuous variables exist in this dataset."
   ]
  },
  {
   "cell_type": "markdown",
   "id": "c014ab8b-2a14-47fa-90c4-c333679ddd77",
   "metadata": {},
   "source": [
    "<b>PLOTS BY KOBE (kinda sucks too)</b>"
   ]
  },
  {
   "cell_type": "code",
   "execution_count": null,
   "id": "bbc56302-4852-44cf-9021-8ec895edf07d",
   "metadata": {
    "vscode": {
     "languageId": "r"
    }
   },
   "outputs": [],
   "source": [
    "# Box plot of age by heart disease status\n",
    "heart_boxplot_age <- ggplot(heart_disease_data, aes(x = factor(target), y = age, fill = factor(target))) +\n",
    "  geom_boxplot() +\n",
    "  labs(title = \"Age Distribution by Heart Disease Status\", \n",
    "       x = \"Heart Disease Status\", \n",
    "       y = \"Age\", \n",
    "       fill = \"Heart Disease\")\n",
    "\n",
    "# Box plot of cholesterol by heart disease status\n",
    "heart_boxplot_chol <- ggplot(heart_disease_data, aes(x = factor(target), y = chol, fill = factor(target))) +\n",
    "  geom_boxplot() +\n",
    "  labs(title = \"Cholesterol Distribution by Heart Disease Status\", \n",
    "       x = \"Heart Disease Status\", \n",
    "       y = \"Cholesterol (mg/dL)\", \n",
    "       fill = \"Heart Disease\")\n",
    "\n",
    "heart_boxplot_age\n",
    "heart_boxplot_chol"
   ]
  },
  {
   "cell_type": "markdown",
   "id": "9fe4aa9a-75a7-4649-9b2f-f172232422d0",
   "metadata": {},
   "source": [
    "Boxplots allow for the comparison of the central tendency (median) and spread (quantiles) of both variables for individuals with and without heart disease. The benefit of visualizing the variables separately with two separate boxplots for each heart disease status (target = 0 and target = 1) is that it allows for a clear comparison of the distribution of variables like age or cholesterol between the two groups. This visualization highlights key patterns, such as differences in medians, spread, and potential outliers, which could indicate a relationship between the variable and heart disease. It helps detect skewness, extreme values, and assess whether a particular variable contributes to the likelihood of heart disease. Overall, it provides valuable insights for understanding how heart disease status is related to specific health factors."
   ]
  },
  {
   "cell_type": "code",
   "execution_count": null,
   "id": "a598ec41-c1a9-4777-bdda-e8cfd6d430fc",
   "metadata": {
    "vscode": {
     "languageId": "r"
    }
   },
   "outputs": [],
   "source": [
    "# Create a 3D scatter plot to visualize the interaction between age, cholesterol, and heart disease status\n",
    "heart_3D_plot <- plot_ly(heart_disease_data, \n",
    "        x = ~age, \n",
    "        y = ~chol, \n",
    "        z = ~target, \n",
    "        color = ~factor(target), \n",
    "        colors = c(\"blue\", \"red\"), \n",
    "        type = \"scatter3d\", \n",
    "        mode = \"markers\") %>%\n",
    "          layout(\n",
    "    title = \"Interaction of Age, Cholesterol, and Heart Disease Status\",\n",
    "    scene = list(\n",
    "      xaxis = list(title = \"Age\"),\n",
    "      yaxis = list(title = \"Cholesterol Level (mg/dL)\"),\n",
    "      zaxis = list(title = \"Heart Disease Status\")\n",
    "    )\n",
    "  )\n",
    "\n",
    "heart_3D_plot"
   ]
  },
  {
   "cell_type": "markdown",
   "id": "4c597e89-318b-463d-8749-87f7954be4af",
   "metadata": {},
   "source": [
    "This 3D plot will show how age and cholesterol are related to the target (heart disease status).\n",
    "The color of the points indicates the presence (red) or absence (blue) of heart disease.\n",
    "A 3D plot allows reader to interact with the plot to explore the relationships from different angles. This can lead to a more complex understanding of the data analysis.   "
   ]
  },
  {
   "cell_type": "markdown",
   "id": "c5dc5c8f-0892-4601-8718-c8867a328814",
   "metadata": {},
   "source": [
    "### **Methods: Plan**\n",
    "\n",
    "<b>Method to address the question of interest: </b> \n",
    "\n",
    "LASSO Regression to fit a Binary Logistic Regression for Inferential Modelling\n",
    "\n",
    "<b>Why is this method appropriate?</b>\n",
    "\n",
    "Binary Logistic Regression is an effective method for binary classification, particularly when determining the relationship between continuous numeric input variables and a binary dependent variable. In other words, this method of choice is appropriate for this analysis because the target variable (target) is binary, where a value of 1 indicates the presence of heart disease and 0 indicates its absence. This type of problem is a typical binary classification task, making logistic regression an ideal method for analysis. Logistic regression models the probability of an event occuring, which is well-suited for estimating the probability of each value in dichotomous dependent variables. Moreover, it allows for the inclusion of multiple explanatory variables which enables a more compelx and comprehensive analysis of factors contributing to heart disease. Additionally, logistic regression is widely used in medical research to model outcomes with binary responses, in our case: the presence or absence of heart disease.\n",
    "\n",
    "The model's performance is enhanced by using LASSO (Least Absolute Shrinkage and Selection Operator), which helps reduce overfitting by applying shrinkage to the coefficients. LASSO performs feature selection, identifying input variables with minimal multicollinearity, and ensuring that only the most significant variables are included in the mode. \n",
    "\n",
    "\n",
    "<b> Required Assumptions to Apply Binary Logistic Regression: </b>\n",
    "1. The target variable is binary with two possible outcomes (in this dataset: 0 = no heart disease and 1=has heart disease)\n",
    "  \n",
    "2. The observations in the dataset are assumed to be independent of each other. No correlated data points exist, each observation was independently collected, and had no influence on each other. If there is any autocorrelation or clustering (e.g., if patients in the same family are included), this assumption could be violated.\n",
    "\n",
    "3. The independent variables should not be highly correlated with each other (i.e. no multicollinearity), as this could make the model unstable.Moderate or very low multicollinearity is ideal where explanatory variables should be weakly or not at all correlated to prevent issues with lower precision, such as estimated coefficients with large confidence intervals\n",
    "\n",
    "4. Logistic regression assumes a sufficient sample size to estimate the model parameters accurately."
   ]
  },
  {
   "cell_type": "markdown",
   "id": "0a10e2b2-f5ef-414a-b05d-7fa4e08a187b",
   "metadata": {},
   "source": [
    "<b>Potential Limitations or Weaknesses of Binary Logistic Regression?</b>\n",
    "\n",
    "Binary logistic Regression assumes a linear relationship between exploratory variables and the log odds of the response variable, which is very uncommon in real-world scenarios. This includes health, where various factors such as a patient's specific medical history and correlated variables also affect the observation. A pre-requisite of using this method is moderate-low multicollinearity between independent variables, which is unlikely since many physiological variables are often correlated (ex. age and blood pressure). This interpretation may simplify our view of the dataset, although many real-world correlated input variables can influence the calculated magnitude of an individual independent variable's effect on the likelihood of heart disease. \n",
    "\n",
    "1. If the relationship between the predictors and the log-odds of heart disease is non-linear, logistic regression may not provide the most accurate results. In such cases, transformations or more complex models may be necessary.\n",
    "\n",
    "2. Multicollinearity between explanatory variables distorts the model and inflates standard errors, which can lead to misleading conclusions. If multicollinearity is present, variable selection or dimensionality reduction techniques such as PCA may be required. It is important to check for multicollinearity and possibly remove highly correlated predictors or combine them.\n",
    "\n",
    "3. Logistic regression requires a sufficiently large sample size, especially when many predictors are included. Smaller sample sizes can lead to overfitting and unreliable estimates which is not good for analysis.\n",
    "\n",
    "4. Logistic regression is sensitive to outliers which affects the model performance.\n",
    "\n",
    "5. The assumption that the relationship between the predictors and the log-odds of the outcome is linear may not always hold. when this assumption is violated, the model may not perform properly. In such cases, alternative models may be more appropriate.\n",
    "\n",
    "<b>Potential Limitations or Weaknesses of LASSO Regression?</b>\n",
    "1. Biased estimators: the sampling distributions of LASSO estimators are not centered at the true value of the parameter.\n",
    " \n",
    "2. \"Double Dipping\": The same data cannot be used to select variables of the model and also conduct inference, however this post-inference issue occurs when fitting an LS regression after LASSO\n",
    "\n",
    "<b> What can be done to handle this: </b>\n",
    "1. To handle highly-correlated variables: Lasso ridge will be used for selecting variables by finding the lowest MSE values, and dropping the variables that may be problematically highly correlated (high MSE values)\n",
    "\n",
    "2. To handle biased estimators: post-lasso technique can be applied by fitting regular least squares onto all exploratory variables LASSO selects, although this does not apply to a logistic model with a binary non-continuous response variable, so other models may be explored to account for this weakness\n",
    "\n",
    "3.  To handle \"double dipping\": we split the data into two parts, where one is for model selection, the other for inference"
   ]
  },
  {
   "cell_type": "markdown",
   "id": "7a334bad-f09b-4fe1-8072-50d6e0b26147",
   "metadata": {},
   "source": [
    "### Implementation of a Proposed Model (Computational code and output)"
   ]
  },
  {
   "cell_type": "markdown",
   "id": "6f3b457e-04d0-46c6-ab5e-347a0f9f309a",
   "metadata": {},
   "source": [
    "#### Applying Lasso Regression"
   ]
  },
  {
   "cell_type": "code",
   "execution_count": null,
   "id": "2304c74c-1a95-498d-a5c4-1aea605d509c",
   "metadata": {
    "vscode": {
     "languageId": "r"
    }
   },
   "outputs": [],
   "source": [
    "#Splitting the dataset to handle the \"double-dipping\" issue, one portion is for model selection, the other is for inference\n",
    "data_split <- initial_split(heart_disease_data, prop = 0.6, strata = target)\n",
    "data_selection <- training(data_split)\n",
    "data_inference <- testing(data_split)"
   ]
  },
  {
   "cell_type": "code",
   "execution_count": null,
   "id": "4fffef83-7656-4304-8bb5-68010792bc73",
   "metadata": {
    "vscode": {
     "languageId": "r"
    }
   },
   "outputs": [],
   "source": [
    "#Running Lasso on data_selection tibble to find value lambda that provides lowest Cross-validation MSE\n",
    "set.seed(20211118)\n",
    "\n",
    "lasso_model <-\n",
    "    cv.glmnet(data_selection %>% select(-target) %>% as.matrix(), \n",
    "              data_selection$target, \n",
    "              alpha=1)"
   ]
  },
  {
   "cell_type": "code",
   "execution_count": null,
   "id": "330cf3c5-9edd-42b2-bd9a-3da7338af17b",
   "metadata": {
    "vscode": {
     "languageId": "r"
    }
   },
   "outputs": [],
   "source": [
    "# Extracting coefficients of the best lasso model (smallest MSE)\n",
    "set.seed(20211118)\n",
    "\n",
    "\n",
    "beta_lasso <-\n",
    "    coef(lasso_model, s = lasso_model$lambda.min)"
   ]
  },
  {
   "cell_type": "markdown",
   "id": "0632f2dc-4923-4396-8e94-198d3d0617ee",
   "metadata": {},
   "source": [
    "**Observation**\n",
    "\n",
    "During selection of best variables for the lasso model, fbs (fasting blood sugar) was cancelled: this indicates it has no statistically significant correlation to target (p-value > 0.05). Otherwise, since LASSO has kept 8 variables, there is likely minimal multicollinearity between the exploratory input variables of the dataset."
   ]
  },
  {
   "cell_type": "code",
   "execution_count": null,
   "id": "54e8b6aa-e0ff-48f4-a1f1-04a274f104b9",
   "metadata": {
    "vscode": {
     "languageId": "r"
    }
   },
   "outputs": [],
   "source": [
    "# Finding the covariates lasso selected\n",
    "lasso_picked_covariates <-\n",
    "    as_tibble(\n",
    "        as.matrix(beta_lasso),\n",
    "        rownames='covariate') %>%\n",
    "        filter(covariate != '(Intercept)' & abs(s1) !=0) %>% \n",
    "        pull(covariate)"
   ]
  },
  {
   "cell_type": "code",
   "execution_count": null,
   "id": "ac5e22d5-b7a3-4198-bba0-2b043720d580",
   "metadata": {
    "vscode": {
     "languageId": "r"
    }
   },
   "outputs": [],
   "source": [
    "# Taking a look at vif (variance inflation factor) of variables selected by lasso\n",
    "lasso_variables_vif <- vif(lm(target ~ . , data = data_selection %>% \n",
    "        select(contains(lasso_picked_covariates), target)))\n",
    "\n",
    "print(lasso_variables_vif)"
   ]
  },
  {
   "cell_type": "markdown",
   "id": "57b01fd8-2d4a-4789-a98f-4e542e0b57fc",
   "metadata": {},
   "source": [
    "**Observation**\n",
    "\n",
    "All selected exploratory variables have VIF values slightly above 1 (_oldpeak+ being the greatest at MSE=1.66), and large VIF values >5 or > 10 are considered indicators of higher multicollinearity. This suggests low multicollinearity in the dataset. Correlation between exploratory variables is only a minor issue in this dataset, which is consistent with _Correlation Heatmap for Heart Disease Dataset Variables_, where very few strongly correlated variable pairs were observed."
   ]
  },
  {
   "cell_type": "code",
   "execution_count": null,
   "id": "905854bf-a069-4769-9dd7-ba7dfc425852",
   "metadata": {
    "vscode": {
     "languageId": "r"
    }
   },
   "outputs": [],
   "source": [
    "# producing the inference model visualization based on the covariates picked by lasso\n",
    "inference_model <- \n",
    "    glm( target ~ .,\n",
    "        data = data_inference %>% \n",
    "                   select(contains(lasso_picked_covariates), target),\n",
    "       family=binomial)\n",
    "\n",
    "\n",
    "summary(inference_model) "
   ]
  },
  {
   "cell_type": "markdown",
   "id": "ee797be8-e465-4a54-9423-6ce3d55e0658",
   "metadata": {},
   "source": [
    "### **Interpretation of Results**"
   ]
  },
  {
   "cell_type": "markdown",
   "id": "54d80b48-2232-4fee-8158-e84479275534",
   "metadata": {},
   "source": [
    "The inference model produced indicates the following unexpected result: _age_'s p-value = 0.609 and _chol_'s p-value = 0.39, both of which are > 0.05 (significance level) by a large margin. Concerning the question of interest, based on the final _inference model_ produced by lasso regression on the binary logistic model, these variables **do not** have a statistically significant effect on the likelihood of heart disease. The variables _sex_, _cp_, _trestbps_, _exang_, _oldpeak_, _slope_, _ca_, and _thal_ have p-values < 0.05, where _sex_,_cp_,_exang_, and _ca_ have especially strongly statistically significant correlations to the likelihood of heart disease, suggesting these are the best predictor variables for creating a logistic model to determine the probability an individual has heart disease.\n",
    "- Potential issue: Residual deviance of 268 on 398 degrees of freedom indicates that the model does not explain some variance in the data, so this model possibly is not the best fit for inference, although AIC=294.35 may be used for comparison to explore other methods (with potentially lower AICs) to produce a model that more strongly fits the data"
   ]
  },
  {
   "cell_type": "markdown",
   "id": "deb04d8d-a88a-4e7e-b0ab-cd6122779b46",
   "metadata": {},
   "source": [
    "## **Discussion** - Wenshan"
   ]
  },
  {
   "cell_type": "markdown",
   "id": "c785d7d7",
   "metadata": {},
   "source": [
    "We found that age and cholesterol do not have a statistically significant effect on the likelihood of having heart disease. This was an unexpected result because people seem to be more susceptible to disease as they age and cholesterol is related to blood pressure that could put strain on the heart so it would make sense for the variables to have an effect on the chance of getting heart disease. However, we realize that it could be the case that age and cholesterol may have an effect on the probability of having heart disease but it is just not statistically significant. \n",
    "\n",
    "Our model could be improved by addressing any potential data imbalance by using weight adjustments or resampling the data. Perhaps alternatively, the model could use L2 regularization to handle multicollinearity and prevent overfitting. \n",
    "\n",
    "Future studies could be about similiar logistic models using different input variables like _sex_, _cp_, _trestbps_, _exang_, _oldpeak_, _slope_, _ca_, and _thal_. If those studies lead to results that show some variables have a statistically significant effect on the likelihood of having heart disease, this could benefit many potential patients. It may help people find out ways to lower their chances of getting heart disease and provide more accurate diagnoses. Even though our study did not show significant effect on likelihood of heart disease, it's one question studied so others could follow similiar steps to study their questions like the impact of the other characteristics. Other questions that could be studied based on our results could include: If the data was split into groups like by gender, would we still ge the same result for each of the groups? Would another type of regression model give a different result? \n"
   ]
  },
  {
   "cell_type": "markdown",
   "id": "a4044d75-566b-423f-800e-236a6481dcf7",
   "metadata": {},
   "source": [
    "## **References**\n",
    "\n",
    "https://argoshare.is.ed.ac.uk/healthyr_book/model-assumptions.html\n",
    "\n",
    "https://www.ibm.com/topics/lasso-regression\n",
    "\n",
    "https://www.geeksforgeeks.org/lasso-vs-ridge-vs-elastic-net-ml/"
   ]
  },
  {
   "cell_type": "code",
   "execution_count": null,
   "id": "5427480f-02a1-4c01-8921-67f97468db3a",
   "metadata": {
    "vscode": {
     "languageId": "r"
    }
   },
   "outputs": [],
   "source": []
  }
 ],
 "metadata": {
  "kernelspec": {
   "display_name": "R",
   "language": "R",
   "name": "ir"
  },
  "language_info": {
   "codemirror_mode": "r",
   "file_extension": ".r",
   "mimetype": "text/x-r-source",
   "name": "R",
   "pygments_lexer": "r",
   "version": "4.3.3"
  }
 },
 "nbformat": 4,
 "nbformat_minor": 5
}
